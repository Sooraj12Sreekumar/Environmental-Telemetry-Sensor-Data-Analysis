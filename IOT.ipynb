{
 "cells": [
  {
   "cell_type": "code",
   "execution_count": 2,
   "metadata": {},
   "outputs": [],
   "source": [
    "import pandas as pd\n",
    "import numpy as np\n",
    "from sklearn.preprocessing import StandardScaler\n",
    "from sklearn.preprocessing import MinMaxScaler\n",
    "\n",
    "import matplotlib.pyplot as plt\n",
    "import seaborn as sns\n",
    "import plotly.express as px  \n",
    "import bokeh  \n",
    "\n",
    "\n",
    "from sklearn.model_selection import train_test_split\n",
    "from sklearn.linear_model import LinearRegression  \n",
    "from sklearn.ensemble import RandomForestRegressor\n",
    "from sklearn.ensemble import GradientBoostingRegressor\n",
    "from sklearn.metrics import mean_squared_error, r2_score\n",
    "\n",
    "import scipy\n",
    "import statsmodels.api as sm\n",
    "import datetime as dt"
   ]
  },
  {
   "cell_type": "code",
   "execution_count": 3,
   "metadata": {},
   "outputs": [],
   "source": [
    "df = pd.read_csv(r\"C:\\Users\\soora\\Downloads\\iot_telemetry_data.csv\")"
   ]
  },
  {
   "cell_type": "code",
   "execution_count": 4,
   "metadata": {},
   "outputs": [
    {
     "data": {
      "text/plain": [
       "0        1970-01-01 00:00:01.594512094\n",
       "1        1970-01-01 00:00:01.594512094\n",
       "2        1970-01-01 00:00:01.594512098\n",
       "3        1970-01-01 00:00:01.594512099\n",
       "4        1970-01-01 00:00:01.594512101\n",
       "                      ...             \n",
       "405179   1970-01-01 00:00:01.595203413\n",
       "405180   1970-01-01 00:00:01.595203413\n",
       "405181   1970-01-01 00:00:01.595203416\n",
       "405182   1970-01-01 00:00:01.595203416\n",
       "405183   1970-01-01 00:00:01.595203417\n",
       "Name: Time, Length: 405184, dtype: datetime64[ns]"
      ]
     },
     "execution_count": 4,
     "metadata": {},
     "output_type": "execute_result"
    }
   ],
   "source": [
    "df[\"Time\"]=pd.to_datetime(df[\"ts\"])\n",
    "df[\"Time\"]"
   ]
  },
  {
   "cell_type": "code",
   "execution_count": 5,
   "metadata": {},
   "outputs": [
    {
     "data": {
      "text/html": [
       "<div>\n",
       "<style scoped>\n",
       "    .dataframe tbody tr th:only-of-type {\n",
       "        vertical-align: middle;\n",
       "    }\n",
       "\n",
       "    .dataframe tbody tr th {\n",
       "        vertical-align: top;\n",
       "    }\n",
       "\n",
       "    .dataframe thead th {\n",
       "        text-align: right;\n",
       "    }\n",
       "</style>\n",
       "<table border=\"1\" class=\"dataframe\">\n",
       "  <thead>\n",
       "    <tr style=\"text-align: right;\">\n",
       "      <th></th>\n",
       "      <th>ts</th>\n",
       "      <th>device</th>\n",
       "      <th>co</th>\n",
       "      <th>humidity</th>\n",
       "      <th>light</th>\n",
       "      <th>lpg</th>\n",
       "      <th>motion</th>\n",
       "      <th>smoke</th>\n",
       "      <th>temp</th>\n",
       "      <th>Time</th>\n",
       "    </tr>\n",
       "  </thead>\n",
       "  <tbody>\n",
       "    <tr>\n",
       "      <th>0</th>\n",
       "      <td>1.594512e+09</td>\n",
       "      <td>b8:27:eb:bf:9d:51</td>\n",
       "      <td>0.004956</td>\n",
       "      <td>51.000000</td>\n",
       "      <td>False</td>\n",
       "      <td>0.007651</td>\n",
       "      <td>False</td>\n",
       "      <td>0.020411</td>\n",
       "      <td>22.700000</td>\n",
       "      <td>1970-01-01 00:00:01.594512094</td>\n",
       "    </tr>\n",
       "    <tr>\n",
       "      <th>1</th>\n",
       "      <td>1.594512e+09</td>\n",
       "      <td>00:0f:00:70:91:0a</td>\n",
       "      <td>0.002840</td>\n",
       "      <td>76.000000</td>\n",
       "      <td>False</td>\n",
       "      <td>0.005114</td>\n",
       "      <td>False</td>\n",
       "      <td>0.013275</td>\n",
       "      <td>19.700001</td>\n",
       "      <td>1970-01-01 00:00:01.594512094</td>\n",
       "    </tr>\n",
       "    <tr>\n",
       "      <th>2</th>\n",
       "      <td>1.594512e+09</td>\n",
       "      <td>b8:27:eb:bf:9d:51</td>\n",
       "      <td>0.004976</td>\n",
       "      <td>50.900000</td>\n",
       "      <td>False</td>\n",
       "      <td>0.007673</td>\n",
       "      <td>False</td>\n",
       "      <td>0.020475</td>\n",
       "      <td>22.600000</td>\n",
       "      <td>1970-01-01 00:00:01.594512098</td>\n",
       "    </tr>\n",
       "    <tr>\n",
       "      <th>3</th>\n",
       "      <td>1.594512e+09</td>\n",
       "      <td>1c:bf:ce:15:ec:4d</td>\n",
       "      <td>0.004403</td>\n",
       "      <td>76.800003</td>\n",
       "      <td>True</td>\n",
       "      <td>0.007023</td>\n",
       "      <td>False</td>\n",
       "      <td>0.018628</td>\n",
       "      <td>27.000000</td>\n",
       "      <td>1970-01-01 00:00:01.594512099</td>\n",
       "    </tr>\n",
       "    <tr>\n",
       "      <th>4</th>\n",
       "      <td>1.594512e+09</td>\n",
       "      <td>b8:27:eb:bf:9d:51</td>\n",
       "      <td>0.004967</td>\n",
       "      <td>50.900000</td>\n",
       "      <td>False</td>\n",
       "      <td>0.007664</td>\n",
       "      <td>False</td>\n",
       "      <td>0.020448</td>\n",
       "      <td>22.600000</td>\n",
       "      <td>1970-01-01 00:00:01.594512101</td>\n",
       "    </tr>\n",
       "  </tbody>\n",
       "</table>\n",
       "</div>"
      ],
      "text/plain": [
       "             ts             device        co   humidity  light       lpg  \\\n",
       "0  1.594512e+09  b8:27:eb:bf:9d:51  0.004956  51.000000  False  0.007651   \n",
       "1  1.594512e+09  00:0f:00:70:91:0a  0.002840  76.000000  False  0.005114   \n",
       "2  1.594512e+09  b8:27:eb:bf:9d:51  0.004976  50.900000  False  0.007673   \n",
       "3  1.594512e+09  1c:bf:ce:15:ec:4d  0.004403  76.800003   True  0.007023   \n",
       "4  1.594512e+09  b8:27:eb:bf:9d:51  0.004967  50.900000  False  0.007664   \n",
       "\n",
       "   motion     smoke       temp                          Time  \n",
       "0   False  0.020411  22.700000 1970-01-01 00:00:01.594512094  \n",
       "1   False  0.013275  19.700001 1970-01-01 00:00:01.594512094  \n",
       "2   False  0.020475  22.600000 1970-01-01 00:00:01.594512098  \n",
       "3   False  0.018628  27.000000 1970-01-01 00:00:01.594512099  \n",
       "4   False  0.020448  22.600000 1970-01-01 00:00:01.594512101  "
      ]
     },
     "execution_count": 5,
     "metadata": {},
     "output_type": "execute_result"
    }
   ],
   "source": [
    "df.head()"
   ]
  },
  {
   "cell_type": "code",
   "execution_count": 6,
   "metadata": {},
   "outputs": [
    {
     "data": {
      "text/html": [
       "<div>\n",
       "<style scoped>\n",
       "    .dataframe tbody tr th:only-of-type {\n",
       "        vertical-align: middle;\n",
       "    }\n",
       "\n",
       "    .dataframe tbody tr th {\n",
       "        vertical-align: top;\n",
       "    }\n",
       "\n",
       "    .dataframe thead th {\n",
       "        text-align: right;\n",
       "    }\n",
       "</style>\n",
       "<table border=\"1\" class=\"dataframe\">\n",
       "  <thead>\n",
       "    <tr style=\"text-align: right;\">\n",
       "      <th></th>\n",
       "      <th>ts</th>\n",
       "      <th>device</th>\n",
       "      <th>co</th>\n",
       "      <th>humidity</th>\n",
       "      <th>light</th>\n",
       "      <th>lpg</th>\n",
       "      <th>motion</th>\n",
       "      <th>smoke</th>\n",
       "      <th>temp</th>\n",
       "      <th>Time</th>\n",
       "    </tr>\n",
       "  </thead>\n",
       "  <tbody>\n",
       "    <tr>\n",
       "      <th>405179</th>\n",
       "      <td>1.595203e+09</td>\n",
       "      <td>00:0f:00:70:91:0a</td>\n",
       "      <td>0.003745</td>\n",
       "      <td>75.300003</td>\n",
       "      <td>False</td>\n",
       "      <td>0.006247</td>\n",
       "      <td>False</td>\n",
       "      <td>0.016437</td>\n",
       "      <td>19.200001</td>\n",
       "      <td>1970-01-01 00:00:01.595203413</td>\n",
       "    </tr>\n",
       "    <tr>\n",
       "      <th>405180</th>\n",
       "      <td>1.595203e+09</td>\n",
       "      <td>b8:27:eb:bf:9d:51</td>\n",
       "      <td>0.005882</td>\n",
       "      <td>48.500000</td>\n",
       "      <td>False</td>\n",
       "      <td>0.008660</td>\n",
       "      <td>False</td>\n",
       "      <td>0.023301</td>\n",
       "      <td>22.200000</td>\n",
       "      <td>1970-01-01 00:00:01.595203413</td>\n",
       "    </tr>\n",
       "    <tr>\n",
       "      <th>405181</th>\n",
       "      <td>1.595203e+09</td>\n",
       "      <td>1c:bf:ce:15:ec:4d</td>\n",
       "      <td>0.004540</td>\n",
       "      <td>75.699997</td>\n",
       "      <td>True</td>\n",
       "      <td>0.007181</td>\n",
       "      <td>False</td>\n",
       "      <td>0.019076</td>\n",
       "      <td>26.600000</td>\n",
       "      <td>1970-01-01 00:00:01.595203416</td>\n",
       "    </tr>\n",
       "    <tr>\n",
       "      <th>405182</th>\n",
       "      <td>1.595203e+09</td>\n",
       "      <td>00:0f:00:70:91:0a</td>\n",
       "      <td>0.003745</td>\n",
       "      <td>75.300003</td>\n",
       "      <td>False</td>\n",
       "      <td>0.006247</td>\n",
       "      <td>False</td>\n",
       "      <td>0.016437</td>\n",
       "      <td>19.200001</td>\n",
       "      <td>1970-01-01 00:00:01.595203416</td>\n",
       "    </tr>\n",
       "    <tr>\n",
       "      <th>405183</th>\n",
       "      <td>1.595203e+09</td>\n",
       "      <td>b8:27:eb:bf:9d:51</td>\n",
       "      <td>0.005914</td>\n",
       "      <td>48.400000</td>\n",
       "      <td>False</td>\n",
       "      <td>0.008695</td>\n",
       "      <td>False</td>\n",
       "      <td>0.023400</td>\n",
       "      <td>22.200000</td>\n",
       "      <td>1970-01-01 00:00:01.595203417</td>\n",
       "    </tr>\n",
       "  </tbody>\n",
       "</table>\n",
       "</div>"
      ],
      "text/plain": [
       "                  ts             device        co   humidity  light       lpg  \\\n",
       "405179  1.595203e+09  00:0f:00:70:91:0a  0.003745  75.300003  False  0.006247   \n",
       "405180  1.595203e+09  b8:27:eb:bf:9d:51  0.005882  48.500000  False  0.008660   \n",
       "405181  1.595203e+09  1c:bf:ce:15:ec:4d  0.004540  75.699997   True  0.007181   \n",
       "405182  1.595203e+09  00:0f:00:70:91:0a  0.003745  75.300003  False  0.006247   \n",
       "405183  1.595203e+09  b8:27:eb:bf:9d:51  0.005914  48.400000  False  0.008695   \n",
       "\n",
       "        motion     smoke       temp                          Time  \n",
       "405179   False  0.016437  19.200001 1970-01-01 00:00:01.595203413  \n",
       "405180   False  0.023301  22.200000 1970-01-01 00:00:01.595203413  \n",
       "405181   False  0.019076  26.600000 1970-01-01 00:00:01.595203416  \n",
       "405182   False  0.016437  19.200001 1970-01-01 00:00:01.595203416  \n",
       "405183   False  0.023400  22.200000 1970-01-01 00:00:01.595203417  "
      ]
     },
     "execution_count": 6,
     "metadata": {},
     "output_type": "execute_result"
    }
   ],
   "source": [
    "df.tail()"
   ]
  },
  {
   "cell_type": "code",
   "execution_count": 7,
   "metadata": {},
   "outputs": [
    {
     "data": {
      "text/html": [
       "<div>\n",
       "<style scoped>\n",
       "    .dataframe tbody tr th:only-of-type {\n",
       "        vertical-align: middle;\n",
       "    }\n",
       "\n",
       "    .dataframe tbody tr th {\n",
       "        vertical-align: top;\n",
       "    }\n",
       "\n",
       "    .dataframe thead th {\n",
       "        text-align: right;\n",
       "    }\n",
       "</style>\n",
       "<table border=\"1\" class=\"dataframe\">\n",
       "  <thead>\n",
       "    <tr style=\"text-align: right;\">\n",
       "      <th></th>\n",
       "      <th>ts</th>\n",
       "      <th>device</th>\n",
       "      <th>co</th>\n",
       "      <th>humidity</th>\n",
       "      <th>light</th>\n",
       "      <th>lpg</th>\n",
       "      <th>motion</th>\n",
       "      <th>smoke</th>\n",
       "      <th>temp</th>\n",
       "      <th>Time</th>\n",
       "    </tr>\n",
       "  </thead>\n",
       "  <tbody>\n",
       "    <tr>\n",
       "      <th>0</th>\n",
       "      <td>1.594512e+09</td>\n",
       "      <td>C1</td>\n",
       "      <td>0.004956</td>\n",
       "      <td>51.000000</td>\n",
       "      <td>False</td>\n",
       "      <td>0.007651</td>\n",
       "      <td>False</td>\n",
       "      <td>0.020411</td>\n",
       "      <td>22.700000</td>\n",
       "      <td>1970-01-01 00:00:01.594512094</td>\n",
       "    </tr>\n",
       "    <tr>\n",
       "      <th>1</th>\n",
       "      <td>1.594512e+09</td>\n",
       "      <td>C2</td>\n",
       "      <td>0.002840</td>\n",
       "      <td>76.000000</td>\n",
       "      <td>False</td>\n",
       "      <td>0.005114</td>\n",
       "      <td>False</td>\n",
       "      <td>0.013275</td>\n",
       "      <td>19.700001</td>\n",
       "      <td>1970-01-01 00:00:01.594512094</td>\n",
       "    </tr>\n",
       "    <tr>\n",
       "      <th>2</th>\n",
       "      <td>1.594512e+09</td>\n",
       "      <td>C1</td>\n",
       "      <td>0.004976</td>\n",
       "      <td>50.900000</td>\n",
       "      <td>False</td>\n",
       "      <td>0.007673</td>\n",
       "      <td>False</td>\n",
       "      <td>0.020475</td>\n",
       "      <td>22.600000</td>\n",
       "      <td>1970-01-01 00:00:01.594512098</td>\n",
       "    </tr>\n",
       "    <tr>\n",
       "      <th>3</th>\n",
       "      <td>1.594512e+09</td>\n",
       "      <td>C3</td>\n",
       "      <td>0.004403</td>\n",
       "      <td>76.800003</td>\n",
       "      <td>True</td>\n",
       "      <td>0.007023</td>\n",
       "      <td>False</td>\n",
       "      <td>0.018628</td>\n",
       "      <td>27.000000</td>\n",
       "      <td>1970-01-01 00:00:01.594512099</td>\n",
       "    </tr>\n",
       "    <tr>\n",
       "      <th>4</th>\n",
       "      <td>1.594512e+09</td>\n",
       "      <td>C1</td>\n",
       "      <td>0.004967</td>\n",
       "      <td>50.900000</td>\n",
       "      <td>False</td>\n",
       "      <td>0.007664</td>\n",
       "      <td>False</td>\n",
       "      <td>0.020448</td>\n",
       "      <td>22.600000</td>\n",
       "      <td>1970-01-01 00:00:01.594512101</td>\n",
       "    </tr>\n",
       "  </tbody>\n",
       "</table>\n",
       "</div>"
      ],
      "text/plain": [
       "             ts device        co   humidity  light       lpg  motion  \\\n",
       "0  1.594512e+09     C1  0.004956  51.000000  False  0.007651   False   \n",
       "1  1.594512e+09     C2  0.002840  76.000000  False  0.005114   False   \n",
       "2  1.594512e+09     C1  0.004976  50.900000  False  0.007673   False   \n",
       "3  1.594512e+09     C3  0.004403  76.800003   True  0.007023   False   \n",
       "4  1.594512e+09     C1  0.004967  50.900000  False  0.007664   False   \n",
       "\n",
       "      smoke       temp                          Time  \n",
       "0  0.020411  22.700000 1970-01-01 00:00:01.594512094  \n",
       "1  0.013275  19.700001 1970-01-01 00:00:01.594512094  \n",
       "2  0.020475  22.600000 1970-01-01 00:00:01.594512098  \n",
       "3  0.018628  27.000000 1970-01-01 00:00:01.594512099  \n",
       "4  0.020448  22.600000 1970-01-01 00:00:01.594512101  "
      ]
     },
     "execution_count": 7,
     "metadata": {},
     "output_type": "execute_result"
    }
   ],
   "source": [
    "df.replace(['b8:27:eb:bf:9d:51', '00:0f:00:70:91:0a', '1c:bf:ce:15:ec:4d'], ['C1','C2','C3'], inplace=True)\n",
    "df.head()"
   ]
  },
  {
   "cell_type": "code",
   "execution_count": 8,
   "metadata": {},
   "outputs": [],
   "source": [
    "df.dropna(inplace=True)"
   ]
  },
  {
   "cell_type": "code",
   "execution_count": 9,
   "metadata": {},
   "outputs": [
    {
     "name": "stdout",
     "output_type": "stream",
     "text": [
      "ts          0\n",
      "device      0\n",
      "co          0\n",
      "humidity    0\n",
      "light       0\n",
      "lpg         0\n",
      "motion      0\n",
      "smoke       0\n",
      "temp        0\n",
      "Time        0\n",
      "dtype: int64\n"
     ]
    }
   ],
   "source": [
    "missing_values = df.isnull().sum()\n",
    "print(missing_values)"
   ]
  },
  {
   "cell_type": "code",
   "execution_count": 10,
   "metadata": {},
   "outputs": [
    {
     "name": "stdout",
     "output_type": "stream",
     "text": [
      "<class 'pandas.core.frame.DataFrame'>\n",
      "RangeIndex: 405184 entries, 0 to 405183\n",
      "Data columns (total 10 columns):\n",
      " #   Column    Non-Null Count   Dtype         \n",
      "---  ------    --------------   -----         \n",
      " 0   ts        405184 non-null  float64       \n",
      " 1   device    405184 non-null  object        \n",
      " 2   co        405184 non-null  float64       \n",
      " 3   humidity  405184 non-null  float64       \n",
      " 4   light     405184 non-null  bool          \n",
      " 5   lpg       405184 non-null  float64       \n",
      " 6   motion    405184 non-null  bool          \n",
      " 7   smoke     405184 non-null  float64       \n",
      " 8   temp      405184 non-null  float64       \n",
      " 9   Time      405184 non-null  datetime64[ns]\n",
      "dtypes: bool(2), datetime64[ns](1), float64(6), object(1)\n",
      "memory usage: 25.5+ MB\n"
     ]
    }
   ],
   "source": [
    "df.info()"
   ]
  },
  {
   "cell_type": "code",
   "execution_count": 11,
   "metadata": {},
   "outputs": [
    {
     "data": {
      "text/html": [
       "<div>\n",
       "<style scoped>\n",
       "    .dataframe tbody tr th:only-of-type {\n",
       "        vertical-align: middle;\n",
       "    }\n",
       "\n",
       "    .dataframe tbody tr th {\n",
       "        vertical-align: top;\n",
       "    }\n",
       "\n",
       "    .dataframe thead th {\n",
       "        text-align: right;\n",
       "    }\n",
       "</style>\n",
       "<table border=\"1\" class=\"dataframe\">\n",
       "  <thead>\n",
       "    <tr style=\"text-align: right;\">\n",
       "      <th></th>\n",
       "      <th>ts</th>\n",
       "      <th>co</th>\n",
       "      <th>humidity</th>\n",
       "      <th>lpg</th>\n",
       "      <th>smoke</th>\n",
       "      <th>temp</th>\n",
       "    </tr>\n",
       "  </thead>\n",
       "  <tbody>\n",
       "    <tr>\n",
       "      <th>count</th>\n",
       "      <td>4.051840e+05</td>\n",
       "      <td>405184.000000</td>\n",
       "      <td>405184.000000</td>\n",
       "      <td>405184.000000</td>\n",
       "      <td>405184.000000</td>\n",
       "      <td>405184.000000</td>\n",
       "    </tr>\n",
       "    <tr>\n",
       "      <th>mean</th>\n",
       "      <td>1.594858e+09</td>\n",
       "      <td>0.004639</td>\n",
       "      <td>60.511694</td>\n",
       "      <td>0.007237</td>\n",
       "      <td>0.019264</td>\n",
       "      <td>22.453987</td>\n",
       "    </tr>\n",
       "    <tr>\n",
       "      <th>std</th>\n",
       "      <td>1.994984e+05</td>\n",
       "      <td>0.001250</td>\n",
       "      <td>11.366489</td>\n",
       "      <td>0.001444</td>\n",
       "      <td>0.004086</td>\n",
       "      <td>2.698347</td>\n",
       "    </tr>\n",
       "    <tr>\n",
       "      <th>min</th>\n",
       "      <td>1.594512e+09</td>\n",
       "      <td>0.001171</td>\n",
       "      <td>1.100000</td>\n",
       "      <td>0.002693</td>\n",
       "      <td>0.006692</td>\n",
       "      <td>0.000000</td>\n",
       "    </tr>\n",
       "    <tr>\n",
       "      <th>25%</th>\n",
       "      <td>1.594686e+09</td>\n",
       "      <td>0.003919</td>\n",
       "      <td>51.000000</td>\n",
       "      <td>0.006456</td>\n",
       "      <td>0.017024</td>\n",
       "      <td>19.900000</td>\n",
       "    </tr>\n",
       "    <tr>\n",
       "      <th>50%</th>\n",
       "      <td>1.594858e+09</td>\n",
       "      <td>0.004812</td>\n",
       "      <td>54.900000</td>\n",
       "      <td>0.007489</td>\n",
       "      <td>0.019950</td>\n",
       "      <td>22.200000</td>\n",
       "    </tr>\n",
       "    <tr>\n",
       "      <th>75%</th>\n",
       "      <td>1.595031e+09</td>\n",
       "      <td>0.005409</td>\n",
       "      <td>74.300003</td>\n",
       "      <td>0.008150</td>\n",
       "      <td>0.021838</td>\n",
       "      <td>23.600000</td>\n",
       "    </tr>\n",
       "    <tr>\n",
       "      <th>max</th>\n",
       "      <td>1.595203e+09</td>\n",
       "      <td>0.014420</td>\n",
       "      <td>99.900002</td>\n",
       "      <td>0.016567</td>\n",
       "      <td>0.046590</td>\n",
       "      <td>30.600000</td>\n",
       "    </tr>\n",
       "  </tbody>\n",
       "</table>\n",
       "</div>"
      ],
      "text/plain": [
       "                 ts             co       humidity            lpg  \\\n",
       "count  4.051840e+05  405184.000000  405184.000000  405184.000000   \n",
       "mean   1.594858e+09       0.004639      60.511694       0.007237   \n",
       "std    1.994984e+05       0.001250      11.366489       0.001444   \n",
       "min    1.594512e+09       0.001171       1.100000       0.002693   \n",
       "25%    1.594686e+09       0.003919      51.000000       0.006456   \n",
       "50%    1.594858e+09       0.004812      54.900000       0.007489   \n",
       "75%    1.595031e+09       0.005409      74.300003       0.008150   \n",
       "max    1.595203e+09       0.014420      99.900002       0.016567   \n",
       "\n",
       "               smoke           temp  \n",
       "count  405184.000000  405184.000000  \n",
       "mean        0.019264      22.453987  \n",
       "std         0.004086       2.698347  \n",
       "min         0.006692       0.000000  \n",
       "25%         0.017024      19.900000  \n",
       "50%         0.019950      22.200000  \n",
       "75%         0.021838      23.600000  \n",
       "max         0.046590      30.600000  "
      ]
     },
     "execution_count": 11,
     "metadata": {},
     "output_type": "execute_result"
    }
   ],
   "source": [
    "df.describe()"
   ]
  },
  {
   "cell_type": "code",
   "execution_count": 12,
   "metadata": {},
   "outputs": [],
   "source": [
    "# Convert boolean columns to numeric (0 and 1)\n",
    "boolean_columns = ['light', 'motion', 'smoke']  \n",
    "df[boolean_columns] = df[boolean_columns].astype(int)"
   ]
  },
  {
   "cell_type": "code",
   "execution_count": 13,
   "metadata": {},
   "outputs": [],
   "source": [
    "encoded_df = pd.get_dummies(df, columns=['device'], drop_first=True)\n"
   ]
  },
  {
   "cell_type": "code",
   "execution_count": 14,
   "metadata": {},
   "outputs": [
    {
     "name": "stdout",
     "output_type": "stream",
     "text": [
      "ts                 float64\n",
      "device              object\n",
      "co                 float64\n",
      "humidity           float64\n",
      "light                int32\n",
      "lpg                float64\n",
      "motion               int32\n",
      "smoke                int32\n",
      "temp               float64\n",
      "Time        datetime64[ns]\n",
      "dtype: object\n"
     ]
    }
   ],
   "source": [
    "print(df.dtypes)"
   ]
  },
  {
   "cell_type": "code",
   "execution_count": 15,
   "metadata": {},
   "outputs": [],
   "source": [
    "d1=df[df['device']=='C1']\n",
    "d2=df[df['device']=='C2']\n",
    "d3=df[df['device']=='C3']"
   ]
  },
  {
   "cell_type": "code",
   "execution_count": 16,
   "metadata": {},
   "outputs": [
    {
     "data": {
      "image/png": "[encoded data removed]",
      "text/plain": [
       "<Figure size 432x288 with 1 Axes>"
      ]
     },
     "metadata": {
      "needs_background": "light"
     },
     "output_type": "display_data"
    }
   ],
   "source": [
    "plt.plot(d1['Time'],d1['co'],label=\"Device_C1\")\n",
    "plt.plot(d2['Time'],d2[\"co\"],label=\"Device_C2\")\n",
    "plt.plot(d3[\"Time\"],d3[\"co\"],label=\"Device_C3\")\n",
    "\n",
    "plt.legend()\n",
    "plt.show()"
   ]
  },
  {
   "cell_type": "code",
   "execution_count": 17,
   "metadata": {},
   "outputs": [
    {
     "data": {
      "image/png": "[encoded data removed]",
      "text/plain": [
       "<Figure size 432x288 with 1 Axes>"
      ]
     },
     "metadata": {
      "needs_background": "light"
     },
     "output_type": "display_data"
    }
   ],
   "source": [
    "plt.plot(d1['Time'],d1['humidity'],label=\"Device_C1\")\n",
    "plt.plot(d2['Time'],d2[\"humidity\"],label=\"Device_C2\")\n",
    "plt.plot(d3[\"Time\"],d3[\"humidity\"],label=\"Device_C3\")\n",
    "\n",
    "plt.legend()\n",
    "plt.show()"
   ]
  },
  {
   "cell_type": "code",
   "execution_count": 18,
   "metadata": {},
   "outputs": [
    {
     "name": "stdout",
     "output_type": "stream",
     "text": [
      "Empty DataFrame\n",
      "Columns: [ts, device, co, humidity, light, lpg, motion, smoke, temp, Time]\n",
      "Index: []\n",
      "                  ts device        co   humidity  light       lpg  motion  \\\n",
      "47089   1.594593e+09     C2  0.007848  73.500000      0  0.010669       0   \n",
      "47107   1.594593e+09     C2  0.007848  73.500000      0  0.010669       0   \n",
      "47112   1.594593e+09     C2  0.007681  73.599998      0  0.010504       0   \n",
      "47118   1.594593e+09     C2  0.007848  73.400002      0  0.010669       0   \n",
      "47121   1.594593e+09     C2  0.007848  73.300003      0  0.010669       0   \n",
      "...              ...    ...       ...        ...    ...       ...     ...   \n",
      "286798  1.595001e+09     C2  0.001671  78.400002      0  0.003484       0   \n",
      "286803  1.595001e+09     C2  0.001654  78.400002      0  0.003459       0   \n",
      "286806  1.595001e+09     C2  0.001638  78.400002      0  0.003435       0   \n",
      "286838  1.595001e+09     C2  0.001654  78.300003      0  0.003459       0   \n",
      "286849  1.595002e+09     C2  0.001671  78.199997      0  0.003484       0   \n",
      "\n",
      "        smoke       temp                          Time  \n",
      "47089       0  18.600000 1970-01-01 00:00:01.594592666  \n",
      "47107       0  18.600000 1970-01-01 00:00:01.594592694  \n",
      "47112       0  18.600000 1970-01-01 00:00:01.594592707  \n",
      "47118       0  18.600000 1970-01-01 00:00:01.594592716  \n",
      "47121       0  18.600000 1970-01-01 00:00:01.594592723  \n",
      "...       ...        ...                           ...  \n",
      "286798      0  19.299999 1970-01-01 00:00:01.595001425  \n",
      "286803      0  19.299999 1970-01-01 00:00:01.595001433  \n",
      "286806      0  19.299999 1970-01-01 00:00:01.595001437  \n",
      "286838      0  19.299999 1970-01-01 00:00:01.595001490  \n",
      "286849      0  19.299999 1970-01-01 00:00:01.595001509  \n",
      "\n",
      "[10480 rows x 10 columns]\n",
      "                  ts device        co  humidity  light       lpg  motion  \\\n",
      "49359   1.594597e+09     C3  0.004451       7.6      1  0.007079       0   \n",
      "50257   1.594598e+09     C3  0.004524       7.0      1  0.007162       0   \n",
      "50336   1.594598e+09     C3  0.004524       6.9      1  0.007162       0   \n",
      "62461   1.594619e+09     C3  0.004604       8.5      1  0.007254       0   \n",
      "67343   1.594627e+09     C3  0.004680       8.4      1  0.007340       0   \n",
      "72206   1.594635e+09     C3  0.004524       8.5      1  0.007162       0   \n",
      "73525   1.594638e+09     C3  0.004524       8.5      1  0.007162       0   \n",
      "73634   1.594638e+09     C3  0.004617       8.5      1  0.007269       0   \n",
      "74210   1.594639e+09     C3  0.004499       8.0      1  0.007133       0   \n",
      "79831   1.594649e+09     C3  0.004566      11.3      1  0.007210       0   \n",
      "87635   1.594662e+09     C3  0.004180      11.1      1  0.006764       0   \n",
      "95084   1.594675e+09     C3  0.004089      11.0      1  0.006657       0   \n",
      "121705  1.594721e+09     C3  0.004202       8.2      1  0.006790       0   \n",
      "123034  1.594723e+09     C3  0.004245       8.3      1  0.006840       0   \n",
      "162597  1.594790e+09     C3  0.004089       2.8      1  0.006657       0   \n",
      "162679  1.594790e+09     C3  0.004089       2.9      1  0.006657       0   \n",
      "164385  1.594793e+09     C3  0.004044       3.3      1  0.006605       0   \n",
      "171672  1.594805e+09     C3  0.004044       4.0      1  0.006605       0   \n",
      "178691  1.594817e+09     C3  0.003951      15.0      1  0.006494       0   \n",
      "179213  1.594818e+09     C3  0.003999      14.4      1  0.006551       0   \n",
      "183046  1.594825e+09     C3  0.003886       9.3      1  0.006416       0   \n",
      "189118  1.594835e+09     C3  0.003879       5.8      1  0.006408       0   \n",
      "197975  1.594850e+09     C3  0.003736       1.6      1  0.006237       0   \n",
      "210898  1.594872e+09     C3  0.003866       4.2      1  0.006392       0   \n",
      "219635  1.594886e+09     C3  0.003899       4.4      1  0.006432       0   \n",
      "230466  1.594905e+09     C3  0.003899       4.9      1  0.006432       0   \n",
      "238039  1.594918e+09     C3  0.003669       9.3      1  0.006155       0   \n",
      "319252  1.595057e+09     C3  0.004226       9.0      1  0.006818       0   \n",
      "325039  1.595067e+09     C3  0.004180       8.8      1  0.006764       0   \n",
      "330900  1.595077e+09     C3  0.004089       8.6      1  0.006657       0   \n",
      "331624  1.595078e+09     C3  0.004053       8.8      1  0.006615       0   \n",
      "342410  1.595097e+09     C3  0.004493       9.2      1  0.007126       0   \n",
      "348191  1.595107e+09     C3  0.004493       2.9      1  0.007126       0   \n",
      "353384  1.595116e+09     C3  0.005296       5.7      1  0.008027       0   \n",
      "357035  1.595122e+09     C3  0.004815       2.7      1  0.007493       0   \n",
      "361586  1.595130e+09     C3  0.004344       4.0      1  0.006955       0   \n",
      "362427  1.595131e+09     C3  0.004303       4.4      1  0.006907       0   \n",
      "364089  1.595134e+09     C2  0.002375       1.1      0  0.004494       0   \n",
      "369710  1.595144e+09     C3  0.004334       6.0      1  0.006943       0   \n",
      "371630  1.595147e+09     C3  0.004342       6.4      1  0.006952       0   \n",
      "375267  1.595153e+09     C3  0.004566       6.9      1  0.007210       0   \n",
      "376101  1.595154e+09     C3  0.004674       6.7      1  0.007333       0   \n",
      "382579  1.595165e+09     C3  0.004161       7.6      1  0.006742       0   \n",
      "386546  1.595172e+09     C3  0.004207      14.3      1  0.006796       0   \n",
      "\n",
      "        smoke       temp                          Time  \n",
      "49359       0  26.799999 1970-01-01 00:00:01.594596504  \n",
      "50257       0  27.000000 1970-01-01 00:00:01.594598049  \n",
      "50336       0  27.000000 1970-01-01 00:00:01.594598186  \n",
      "62461       0  24.799999 1970-01-01 00:00:01.594618825  \n",
      "67343       0  24.100000 1970-01-01 00:00:01.594627180  \n",
      "72206       0  23.600000 1970-01-01 00:00:01.594635498  \n",
      "73525       0  23.600000 1970-01-01 00:00:01.594637724  \n",
      "73634       0  23.600000 1970-01-01 00:00:01.594637906  \n",
      "74210       0  23.600000 1970-01-01 00:00:01.594638907  \n",
      "79831       0  23.500000 1970-01-01 00:00:01.594648573  \n",
      "87635       0  24.900000 1970-01-01 00:00:01.594662197  \n",
      "95084       0  25.799999 1970-01-01 00:00:01.594675411  \n",
      "121705      0  22.700001 1970-01-01 00:00:01.594720861  \n",
      "123034      0  22.600000 1970-01-01 00:00:01.594723070  \n",
      "162597      0  25.900000 1970-01-01 00:00:01.594789959  \n",
      "162679      0  25.900000 1970-01-01 00:00:01.594790090  \n",
      "164385      0  25.500000 1970-01-01 00:00:01.594792924  \n",
      "171672      0  24.000000 1970-01-01 00:00:01.594805407  \n",
      "178691      0  24.600000 1970-01-01 00:00:01.594817334  \n",
      "179213      0  24.900000 1970-01-01 00:00:01.594818218  \n",
      "183046      0  26.200001 1970-01-01 00:00:01.594824773  \n",
      "189118      0  27.799999 1970-01-01 00:00:01.594834914  \n",
      "197975      0  30.000000 1970-01-01 00:00:01.594850143  \n",
      "210898      0  27.000000 1970-01-01 00:00:01.594871952  \n",
      "219635      0  25.299999 1970-01-01 00:00:01.594886453  \n",
      "230466      0  25.500000 1970-01-01 00:00:01.594904656  \n",
      "238039      0  26.700001 1970-01-01 00:00:01.594917633  \n",
      "319252      0  24.299999 1970-01-01 00:00:01.595056909  \n",
      "325039      0  23.600000 1970-01-01 00:00:01.595066828  \n",
      "330900      0  24.299999 1970-01-01 00:00:01.595076909  \n",
      "331624      0  24.500000 1970-01-01 00:00:01.595078152  \n",
      "342410      0  28.700001 1970-01-01 00:00:01.595096860  \n",
      "348191      0  30.299999 1970-01-01 00:00:01.595106966  \n",
      "353384      0  29.500000 1970-01-01 00:00:01.595115981  \n",
      "357035      0  30.000000 1970-01-01 00:00:01.595122263  \n",
      "361586      0  29.100000 1970-01-01 00:00:01.595130065  \n",
      "362427      0  28.799999 1970-01-01 00:00:01.595131454  \n",
      "364089      0  19.700001 1970-01-01 00:00:01.595134255  \n",
      "369710      0  26.799999 1970-01-01 00:00:01.595143686  \n",
      "371630      0  26.400000 1970-01-01 00:00:01.595146937  \n",
      "375267      0  25.799999 1970-01-01 00:00:01.595152974  \n",
      "376101      0  25.600000 1970-01-01 00:00:01.595154336  \n",
      "382579      0  26.700001 1970-01-01 00:00:01.595165103  \n",
      "386546      0  28.000000 1970-01-01 00:00:01.595171663  \n",
      "                  ts device        co   humidity  light       lpg  motion  \\\n",
      "47199   1.594593e+09     C2  0.007962  73.599998      0  0.010781       0   \n",
      "47216   1.594593e+09     C2  0.008078  73.699997      0  0.010894       0   \n",
      "47232   1.594593e+09     C2  0.008437  73.400002      0  0.011243       0   \n",
      "47234   1.594593e+09     C2  0.007962  73.400002      0  0.010781       0   \n",
      "47237   1.594593e+09     C2  0.007962  73.500000      0  0.010781       0   \n",
      "...              ...    ...       ...        ...    ...       ...     ...   \n",
      "288200  1.595004e+09     C2  0.001951  77.199997      0  0.003898       0   \n",
      "288263  1.595004e+09     C2  0.001956  77.900002      0  0.003906       0   \n",
      "288333  1.595004e+09     C2  0.001961  78.099998      0  0.003913       0   \n",
      "288340  1.595004e+09     C2  0.001941  78.300003      0  0.003884       0   \n",
      "288482  1.595004e+09     C2  0.001961  77.699997      0  0.003913       0   \n",
      "\n",
      "        smoke       temp                          Time  \n",
      "47199       0  18.600000 1970-01-01 00:00:01.594592858  \n",
      "47216       0  18.600000 1970-01-01 00:00:01.594592886  \n",
      "47232       0  18.600000 1970-01-01 00:00:01.594592916  \n",
      "47234       0  18.600000 1970-01-01 00:00:01.594592920  \n",
      "47237       0  18.600000 1970-01-01 00:00:01.594592923  \n",
      "...       ...        ...                           ...  \n",
      "288200      0  19.100000 1970-01-01 00:00:01.595003735  \n",
      "288263      0  19.200001 1970-01-01 00:00:01.595003849  \n",
      "288333      0  19.200001 1970-01-01 00:00:01.595003970  \n",
      "288340      0  19.200001 1970-01-01 00:00:01.595003982  \n",
      "288482      0  19.200001 1970-01-01 00:00:01.595004220  \n",
      "\n",
      "[12624 rows x 10 columns]\n",
      "                  ts device        co   humidity  light       lpg  motion  \\\n",
      "897     1.594514e+09     C2  0.002701  63.000000      0  0.004932       0   \n",
      "1184    1.594514e+09     C3  0.004375  78.199997      1  0.006991       0   \n",
      "1363    1.594514e+09     C2  0.002613  76.300003      0  0.004815       0   \n",
      "4155    1.594519e+09     C3  0.004089  76.800003      1  0.006657       0   \n",
      "5557    1.594521e+09     C2  0.002375  63.700001      0  0.004494       0   \n",
      "...              ...    ...       ...        ...    ...       ...     ...   \n",
      "401903  1.595198e+09     C3  0.004180  68.900002      1  0.006764       0   \n",
      "401997  1.595198e+09     C3  0.004180  69.500000      1  0.006764       0   \n",
      "402522  1.595199e+09     C3  0.004303  71.300003      1  0.006907       0   \n",
      "405030  1.595203e+09     C2  0.003745  75.599998      0  0.006247       0   \n",
      "405032  1.595203e+09     C2  0.003745  75.599998      0  0.006247       0   \n",
      "\n",
      "        smoke  temp                          Time  \n",
      "897         0   6.8 1970-01-01 00:00:01.594513607  \n",
      "1184        0   1.3 1970-01-01 00:00:01.594514082  \n",
      "1363        0   7.0 1970-01-01 00:00:01.594514393  \n",
      "4155        0   0.9 1970-01-01 00:00:01.594519010  \n",
      "5557        0   7.0 1970-01-01 00:00:01.594521328  \n",
      "...       ...   ...                           ...  \n",
      "401903      0   2.1 1970-01-01 00:00:01.595197718  \n",
      "401997      0   1.9 1970-01-01 00:00:01.595197880  \n",
      "402522      0   1.9 1970-01-01 00:00:01.595198787  \n",
      "405030      0   6.5 1970-01-01 00:00:01.595203156  \n",
      "405032      0   6.5 1970-01-01 00:00:01.595203162  \n",
      "\n",
      "[8616 rows x 10 columns]\n"
     ]
    }
   ],
   "source": [
    "numerical_columns = ['ts', 'co', 'humidity', 'lpg', 'temp']\n",
    "\n",
    "for column in numerical_columns:\n",
    "    Q1 = df[column].quantile(0.25)\n",
    "    Q3 = df[column].quantile(0.75)\n",
    "    IQR = Q3 - Q1\n",
    "    lower_bound = Q1 - 1.5 * IQR\n",
    "    upper_bound = Q3 + 1.5 * IQR\n",
    "    \n",
    "    outliers = df[(df[column] < lower_bound) | (df[column] > upper_bound)]\n",
    "    print(outliers)\n",
    "    df[~((df[column] < lower_bound) | (df[column] > upper_bound))]\n"
   ]
  },
  {
   "cell_type": "code",
   "execution_count": 19,
   "metadata": {},
   "outputs": [],
   "source": [
    "scaler = StandardScaler()\n",
    "\n",
    "df[numerical_columns] = scaler.fit_transform(df[numerical_columns])\n",
    "\n",
    "scaler = MinMaxScaler()\n",
    "\n",
    "df[numerical_columns] = scaler.fit_transform(df[numerical_columns])\n"
   ]
  },
  {
   "cell_type": "code",
   "execution_count": 20,
   "metadata": {},
   "outputs": [
    {
     "name": "stdout",
     "output_type": "stream",
     "text": [
      "                co      temp  humidity\n",
      "co        1.000000  0.110905 -0.656750\n",
      "temp      0.110905  1.000000 -0.410427\n",
      "humidity -0.656750 -0.410427  1.000000\n"
     ]
    }
   ],
   "source": [
    "correlation_matrix = df[['co', 'temp', 'humidity']].corr()\n",
    "print(correlation_matrix)"
   ]
  },
  {
   "cell_type": "markdown",
   "metadata": {},
   "source": [
    "There seems to be a weak positive correlation between CO levels and temperature, indicating a limited influence of temperature on CO readings in this dataset.\n",
    "However, there's a moderately strong negative correlation between CO levels and humidity, suggesting a more significant impact of humidity on CO readings—higher humidity associated with lower CO levels.\n",
    "Additionally, there's a moderate negative correlation between temperature and humidity, indicating a relationship between these environmental factors."
   ]
  },
  {
   "cell_type": "code",
   "execution_count": 21,
   "metadata": {},
   "outputs": [
    {
     "data": {
      "image/png": "[encoded data removed]",
      "text/plain": [
       "<Figure size 432x288 with 1 Axes>"
      ]
     },
     "metadata": {
      "needs_background": "light"
     },
     "output_type": "display_data"
    },
    {
     "data": {
      "image/png": "[encoded data removed]",
      "text/plain": [
       "<Figure size 432x288 with 1 Axes>"
      ]
     },
     "metadata": {
      "needs_background": "light"
     },
     "output_type": "display_data"
    }
   ],
   "source": [
    "plt.scatter(df['lpg'], df['co']) \n",
    "plt.xlabel('LPG')  \n",
    "plt.ylabel('CO Levels')\n",
    "plt.title('Scatter Plot: Temp vs. CO Levels')\n",
    "plt.show()\n",
    "\n",
    "plt.scatter(df['humidity'], df['co'])\n",
    "plt.xlabel('Humidity')\n",
    "plt.ylabel('CO Levels')\n",
    "plt.title('Scatter Plot: Humidity vs. CO Levels')\n",
    "plt.show()\n"
   ]
  },
  {
   "cell_type": "code",
   "execution_count": 22,
   "metadata": {},
   "outputs": [
    {
     "data": {
      "image/png": "[encoded data removed]",
      "text/plain": [
       "<Figure size 432x288 with 2 Axes>"
      ]
     },
     "metadata": {
      "needs_background": "light"
     },
     "output_type": "display_data"
    }
   ],
   "source": [
    "sns.heatmap(correlation_matrix, annot=True, cmap='coolwarm')\n",
    "plt.title('Correlation Heatmap: CO, Temperature, Humidity')\n",
    "plt.show()\n"
   ]
  },
  {
   "cell_type": "code",
   "execution_count": 23,
   "metadata": {},
   "outputs": [
    {
     "data": {
      "text/plain": [
       "RandomForestRegressor()"
      ]
     },
     "execution_count": 23,
     "metadata": {},
     "output_type": "execute_result"
    }
   ],
   "source": [
    "from sklearn.ensemble import RandomForestRegressor\n",
    "X = df[['temp', 'humidity','smoke','lpg']] \n",
    "y = df['co']\n",
    "\n",
    "model = RandomForestRegressor()  \n",
    "model.fit(X, y)  "
   ]
  },
  {
   "cell_type": "code",
   "execution_count": 24,
   "metadata": {},
   "outputs": [
    {
     "name": "stdout",
     "output_type": "stream",
     "text": [
      "    Feature    Importance\n",
      "3       lpg  9.999999e-01\n",
      "1  humidity  3.377695e-08\n",
      "0      temp  1.885515e-08\n",
      "2     smoke  0.000000e+00\n"
     ]
    }
   ],
   "source": [
    "feature_importances = model.feature_importances_\n",
    "feature_importance_df = pd.DataFrame({'Feature': X.columns, 'Importance': feature_importances})\n",
    "feature_importance_df = feature_importance_df.sort_values(by='Importance', ascending=False)\n",
    "\n",
    "print(feature_importance_df)"
   ]
  },
  {
   "cell_type": "code",
   "execution_count": 25,
   "metadata": {},
   "outputs": [
    {
     "name": "stdout",
     "output_type": "stream",
     "text": [
      "Selected Features: Index(['humidity', 'lpg'], dtype='object')\n"
     ]
    },
    {
     "name": "stderr",
     "output_type": "stream",
     "text": [
      "c:\\ProgramData\\Anaconda3\\lib\\site-packages\\sklearn\\feature_selection\\_univariate_selection.py:289: RuntimeWarning: invalid value encountered in true_divide\n",
      "  correlation_coefficient /= X_norms\n"
     ]
    }
   ],
   "source": [
    "from sklearn.feature_selection import SelectKBest, f_regression\n",
    "X = df[['temp', 'humidity','smoke','lpg']] \n",
    "y = df['co']\n",
    "\n",
    "k_best = SelectKBest(score_func=f_regression, k=2)  \n",
    "X_best = k_best.fit_transform(X, y)\n",
    "\n",
    "selected_feature_indices = k_best.get_support(indices=True)\n",
    "\n",
    "selected_features = X.columns[selected_feature_indices]\n",
    "print(\"Selected Features:\", selected_features)"
   ]
  },
  {
   "cell_type": "code",
   "execution_count": 26,
   "metadata": {},
   "outputs": [
    {
     "name": "stdout",
     "output_type": "stream",
     "text": [
      "Selected Features: Index(['temp', 'lpg'], dtype='object')\n"
     ]
    }
   ],
   "source": [
    "from sklearn.feature_selection import RFE\n",
    "from sklearn.ensemble import RandomForestRegressor\n",
    "\n",
    "X = df[['temp', 'humidity','lpg','smoke']]\n",
    "y = df['co']\n",
    "\n",
    "model = RandomForestRegressor()\n",
    "\n",
    "\n",
    "rfe = RFE(estimator=model, n_features_to_select=2)  \n",
    "X_rfe = rfe.fit_transform(X, y)\n",
    "\n",
    "selected_feature_indices = rfe.get_support(indices=True)\n",
    "\n",
    "selected_features = X.columns[selected_feature_indices]\n",
    "print(\"Selected Features:\", selected_features)\n"
   ]
  },
  {
   "cell_type": "code",
   "execution_count": 27,
   "metadata": {},
   "outputs": [
    {
     "name": "stdout",
     "output_type": "stream",
     "text": [
      "Mean Squared Error (MSE): 4.125616007123688e-05\n",
      "R-squared: 0.9953625755909576\n"
     ]
    }
   ],
   "source": [
    "X_train, X_test, y_train, y_test = train_test_split(X, y, test_size=0.2, random_state=42)\n",
    "\n",
    "model = LinearRegression()\n",
    "\n",
    "model.fit(X_train, y_train)\n",
    "\n",
    "predictions = model.predict(X_test)\n",
    "\n",
    "mse = mean_squared_error(y_test, predictions)\n",
    "r_squared = r2_score(y_test, predictions)\n",
    "\n",
    "print(\"Mean Squared Error (MSE):\", mse)\n",
    "print(\"R-squared:\", r_squared)"
   ]
  },
  {
   "cell_type": "code",
   "execution_count": 28,
   "metadata": {},
   "outputs": [
    {
     "name": "stdout",
     "output_type": "stream",
     "text": [
      "Mean Squared Error (MSE): 6.263700072472611e-08\n",
      "R-squared: 0.9999929592488596\n"
     ]
    }
   ],
   "source": [
    "model = RandomForestRegressor(n_estimators=100, random_state=42)  \n",
    "\n",
    "model.fit(X_train, y_train)\n",
    "\n",
    "predictions = model.predict(X_test)\n",
    "\n",
    "mse = mean_squared_error(y_test, predictions)\n",
    "r_squared = r2_score(y_test, predictions)\n",
    "\n",
    "print(\"Mean Squared Error (MSE):\", mse)\n",
    "print(\"R-squared:\", r_squared)"
   ]
  },
  {
   "cell_type": "code",
   "execution_count": 29,
   "metadata": {},
   "outputs": [
    {
     "name": "stdout",
     "output_type": "stream",
     "text": [
      "Mean Squared Error (MSE): 7.341946818818099e-07\n",
      "R-squared: 0.999917472388781\n"
     ]
    }
   ],
   "source": [
    "model = GradientBoostingRegressor(n_estimators=100, learning_rate=0.1, random_state=42)  \n",
    "\n",
    "model.fit(X_train, y_train)\n",
    "\n",
    "predictions = model.predict(X_test)\n",
    "\n",
    "mse = mean_squared_error(y_test, predictions)\n",
    "r_squared = r2_score(y_test, predictions)\n",
    "\n",
    "print(\"Mean Squared Error (MSE):\", mse)\n",
    "print(\"R-squared:\", r_squared)"
   ]
  },
  {
   "cell_type": "code",
   "execution_count": 30,
   "metadata": {},
   "outputs": [
    {
     "data": {
      "image/png": "[encoded data removed]",
      "text/plain": [
       "<Figure size 576x432 with 1 Axes>"
      ]
     },
     "metadata": {
      "needs_background": "light"
     },
     "output_type": "display_data"
    }
   ],
   "source": [
    "Models=['LRM','RFRM','GBRM']\n",
    "MSE_Values=[7.242593747366633e-09,1.0894217864677056e-11,1.3016670689045928e-10]\n",
    "R_squared_Values=[0.9953625755909576,0.9999930244448874,0.9999166544079602]\n",
    "\n",
    "plt.figure(figsize=(8,6))\n",
    "plt.bar(Models,MSE_Values,color='skyblue')\n",
    "plt.xlabel(\"MODELS\")\n",
    "plt.ylabel(\"MSE_values\")\n",
    "plt.title(\"Comparison of Models based on MSE Value\")\n",
    "plt.show()\n"
   ]
  },
  {
   "cell_type": "code",
   "execution_count": 31,
   "metadata": {},
   "outputs": [
    {
     "name": "stdout",
     "output_type": "stream",
     "text": [
      "Mean Squared Error (MSE): 0.000665705868037544\n",
      "R-squared: 0.9251709166255557\n"
     ]
    }
   ],
   "source": [
    "from sklearn.svm import SVR\n",
    "\n",
    "# Define the SVR model with desired hyperparameters\n",
    "model = SVR(kernel='rbf', C=1.0, epsilon=0.1)\n",
    "\n",
    "# Train the model on the training data\n",
    "model.fit(X_train, y_train)\n",
    "\n",
    "# Make predictions on the test data\n",
    "predictions = model.predict(X_test)\n",
    "\n",
    "# Calculate the evaluation metrics\n",
    "mse = mean_squared_error(y_test, predictions)\n",
    "r_squared = r2_score(y_test, predictions)\n",
    "\n",
    "# Print the results\n",
    "print(\"Mean Squared Error (MSE):\", mse)\n",
    "print(\"R-squared:\", r_squared)\n"
   ]
  },
  {
   "cell_type": "code",
   "execution_count": 32,
   "metadata": {},
   "outputs": [
    {
     "name": "stdout",
     "output_type": "stream",
     "text": [
      "Mean Squared Error (MSE): 1.0268270946218976e-07\n",
      "R-squared: 0.9999884578859878\n"
     ]
    }
   ],
   "source": [
    "from xgboost import XGBRegressor\n",
    "\n",
    "# Define the XGBoost model with desired hyperparameters\n",
    "model = XGBRegressor(n_estimators=100, learning_rate=0.1, max_depth=5)\n",
    "\n",
    "# Train the model on the training data\n",
    "model.fit(X_train, y_train)\n",
    "\n",
    "# Make predictions on the test data\n",
    "predictions = model.predict(X_test)\n",
    "\n",
    "# Calculate the evaluation metrics\n",
    "mse = mean_squared_error(y_test, predictions)\n",
    "r_squared = r2_score(y_test, predictions)\n",
    "\n",
    "# Print the results\n",
    "print(\"Mean Squared Error (MSE):\", mse)\n",
    "print(\"R-squared:\", r_squared)\n"
   ]
  },
  {
   "cell_type": "code",
   "execution_count": 35,
   "metadata": {},
   "outputs": [
    {
     "name": "stdout",
     "output_type": "stream",
     "text": [
      "Mean Squared Error (MSE): 1.1748118299851262e-06\n",
      "R-squared: 0.9998679445433846\n"
     ]
    }
   ],
   "source": [
    "from sklearn.neighbors import KNeighborsRegressor\n",
    "\n",
    "# Define the KNN model with desired hyperparameters\n",
    "model = KNeighborsRegressor(n_neighbors=5)\n",
    "\n",
    "# Train the model on the training data\n",
    "model.fit(X_train, y_train)\n",
    "\n",
    "# Make predictions on the test data\n",
    "predictions = model.predict(X_test)\n",
    "\n",
    "# Calculate the evaluation metrics\n",
    "mse = mean_squared_error(y_test, predictions)\n",
    "r_squared = r2_score(y_test, predictions)\n",
    "\n",
    "# Print the results\n",
    "print(\"Mean Squared Error (MSE):\", mse)\n",
    "print(\"R-squared:\", r_squared)\n"
   ]
  },
  {
   "cell_type": "code",
   "execution_count": 37,
   "metadata": {},
   "outputs": [],
   "source": [
    "# Initialize models\n",
    "models = {\n",
    "    \"Linear Regression\": LinearRegression(),\n",
    "    \"Random Forest\": RandomForestRegressor(n_estimators=100, random_state=42),\n",
    "    \"Gradient Boosting\": GradientBoostingRegressor(n_estimators=100, learning_rate=0.1, random_state=42),\n",
    "    \"Support Vector Regression\": SVR(kernel='rbf', C=1.0, epsilon=0.1),\n",
    "    \"XGBoost\": XGBRegressor(n_estimators=100, learning_rate=0.1, max_depth=5),\n",
    "    \"KNN\": KNeighborsRegressor(n_neighbors=5)\n",
    "    }"
   ]
  },
  {
   "cell_type": "code",
   "execution_count": 38,
   "metadata": {},
   "outputs": [],
   "source": [
    "# Dictionary to store results\n",
    "results = {\"Algorithm\": [], \"MSE\": [], \"R-squared\": []}\n",
    "\n",
    "# Model fitting and evaluation\n",
    "for name, model in models.items():\n",
    "    model.fit(X_train, y_train)\n",
    "    predictions = model.predict(X_test)\n",
    "    mse = mean_squared_error(y_test, predictions)\n",
    "    r_squared = r2_score(y_test, predictions)\n",
    "    results[\"Algorithm\"].append(name)\n",
    "    results[\"MSE\"].append(mse)\n",
    "    results[\"R-squared\"].append(r_squared)"
   ]
  },
  {
   "cell_type": "code",
   "execution_count": 39,
   "metadata": {},
   "outputs": [
    {
     "data": {
      "image/png": "[encoded data removed]",
      "text/plain": [
       "<Figure size 720x432 with 1 Axes>"
      ]
     },
     "metadata": {
      "needs_background": "light"
     },
     "output_type": "display_data"
    }
   ],
   "source": [
    "# 1. Performance Comparison\n",
    "# Scatter plot\n",
    "plt.figure(figsize=(10, 6))\n",
    "for name, model in models.items():\n",
    "    predictions = model.predict(X_test)\n",
    "    plt.scatter(y_test, predictions, label=name)\n",
    "plt.xlabel(\"Actual Values\")\n",
    "plt.ylabel(\"Predicted Values\")\n",
    "plt.title(\"Scatter plot of Actual vs Predicted Values\")\n",
    "plt.legend()\n",
    "plt.show()"
   ]
  },
  {
   "cell_type": "code",
   "execution_count": 40,
   "metadata": {},
   "outputs": [
    {
     "data": {
      "image/png": "[encoded data removed]",
      "text/plain": [
       "<Figure size 720x432 with 1 Axes>"
      ]
     },
     "metadata": {
      "needs_background": "light"
     },
     "output_type": "display_data"
    },
    {
     "data": {
      "image/png": "[encoded data removed]",
      "text/plain": [
       "<Figure size 720x432 with 1 Axes>"
      ]
     },
     "metadata": {
      "needs_background": "light"
     },
     "output_type": "display_data"
    }
   ],
   "source": [
    "# Bar chart for MSE and R-squared\n",
    "plt.figure(figsize=(10, 6))\n",
    "sns.barplot(x=\"Algorithm\", y=\"MSE\", data=results)\n",
    "plt.title(\"Mean Squared Error (MSE) Comparison\")\n",
    "plt.xticks(rotation=45)\n",
    "plt.show()\n",
    "\n",
    "plt.figure(figsize=(10, 6))\n",
    "sns.barplot(x=\"Algorithm\", y=\"R-squared\", data=results)\n",
    "plt.title(\"R-squared Comparison\")\n",
    "plt.xticks(rotation=45)\n",
    "plt.show()"
   ]
  },
  {
   "cell_type": "code",
   "execution_count": 41,
   "metadata": {},
   "outputs": [
    {
     "data": {
      "image/png": "[encoded data removed]",
      "text/plain": [
       "<Figure size 720x432 with 1 Axes>"
      ]
     },
     "metadata": {
      "needs_background": "light"
     },
     "output_type": "display_data"
    }
   ],
   "source": [
    "# 2. Feature Importance (for Random Forest and Gradient Boosting)\n",
    "rf_model = models[\"Random Forest\"]\n",
    "if hasattr(rf_model, 'feature_importances_'):\n",
    "    feature_importance = rf_model.feature_importances_\n",
    "    sorted_idx = np.argsort(feature_importance)\n",
    "    features = X.columns\n",
    "    plt.figure(figsize=(10, 6))\n",
    "    plt.barh(range(len(sorted_idx)), feature_importance[sorted_idx], align='center')\n",
    "    plt.yticks(range(len(sorted_idx)), [features[i] for i in sorted_idx])\n",
    "    plt.xlabel('Feature Importance')\n",
    "    plt.ylabel('Features')\n",
    "    plt.title('Feature Importance - Random Forest')\n",
    "    plt.show()"
   ]
  },
  {
   "cell_type": "code",
   "execution_count": 42,
   "metadata": {},
   "outputs": [
    {
     "data": {
      "image/png": "[encoded data removed]",
      "text/plain": [
       "<Figure size 720x432 with 1 Axes>"
      ]
     },
     "metadata": {
      "needs_background": "light"
     },
     "output_type": "display_data"
    }
   ],
   "source": [
    "# 3. Error Analysis\n",
    "# Residual plot\n",
    "plt.figure(figsize=(10, 6))\n",
    "for name, model in models.items():\n",
    "    predictions = model.predict(X_test)\n",
    "    residuals = y_test - predictions\n",
    "    plt.scatter(predictions, residuals, label=name)\n",
    "plt.xlabel(\"Predicted Values\")\n",
    "plt.ylabel(\"Residuals\")\n",
    "plt.axhline(y=0, color='r', linestyle='-')\n",
    "plt.title(\"Residual Plot\")\n",
    "plt.legend()\n",
    "plt.show()"
   ]
  },
  {
   "cell_type": "code",
   "execution_count": 43,
   "metadata": {},
   "outputs": [
    {
     "name": "stdout",
     "output_type": "stream",
     "text": [
      "Explained variance ratio:\n",
      "[0.61755608 0.29315204]\n"
     ]
    }
   ],
   "source": [
    "from sklearn.decomposition import PCA\n",
    "\n",
    "# Assuming you have your data stored in a NumPy array named 'X'\n",
    "# Standardize the data (optional but recommended)\n",
    "X_std = StandardScaler().fit_transform(X)\n",
    "\n",
    "# Define the number of principal components to retain (e.g., 90% of variance)\n",
    "pca = PCA(n_components=0.9)\n",
    "\n",
    "# Fit the PCA model to the standardized data\n",
    "pca.fit(X_std)\n",
    "\n",
    "# Transform the data using the fitted PCA model\n",
    "X_pca = pca.transform(X_std)\n",
    "\n",
    "# X_pca will now contain the data projected onto the principal components\n",
    "\n",
    "# Access the explained variance ratio per component (optional)\n",
    "explained_variance = pca.explained_variance_ratio_\n",
    "\n",
    "# Print the explained variance ratio for the first few components\n",
    "print(\"Explained variance ratio:\")\n",
    "print(explained_variance[:10])  # Print the first 10 components\n"
   ]
  },
  {
   "cell_type": "code",
   "execution_count": 45,
   "metadata": {},
   "outputs": [
    {
     "name": "stdout",
     "output_type": "stream",
     "text": [
      "Mean Squared Error (MSE): 5.0772060884720125e-05\n",
      "R-squared: 0.9942929348238511\n"
     ]
    }
   ],
   "source": [
    "from sklearn.decomposition import PCA\n",
    "from sklearn.neighbors import KNeighborsRegressor\n",
    "from sklearn.metrics import mean_squared_error, r2_score\n",
    "\n",
    "# Assuming you have your training and testing data split (X_train, X_test, y_train, y_test)\n",
    "\n",
    "# Standardize the data (optional but recommended)\n",
    "X_train_std = StandardScaler().fit_transform(X_train)\n",
    "X_test_std = StandardScaler().fit_transform(X_test)\n",
    "\n",
    "# Define the number of principal components to retain (e.g., 90% of variance)\n",
    "pca = PCA(n_components=0.9)\n",
    "\n",
    "# Fit the PCA model to the standardized training data\n",
    "pca.fit(X_train_std)\n",
    "\n",
    "# Transform the training and testing data using the fitted PCA model\n",
    "X_train_pca = pca.transform(X_train_std)\n",
    "X_test_pca = pca.transform(X_test_std)\n",
    "\n",
    "# Define the KNN model with desired hyperparameters\n",
    "model = KNeighborsRegressor(n_neighbors=5)\n",
    "\n",
    "# Train the model on the PCA-transformed training data and target variable\n",
    "model.fit(X_train_pca, y_train)\n",
    "\n",
    "# Make predictions on the PCA-transformed testing data\n",
    "predictions = model.predict(X_test_pca)\n",
    "\n",
    "# Calculate the evaluation metrics\n",
    "mse = mean_squared_error(y_test, predictions)\n",
    "r_squared = r2_score(y_test, predictions)\n",
    "\n",
    "# Print the results\n",
    "print(\"Mean Squared Error (MSE):\", mse)\n",
    "print(\"R-squared:\", r_squared)\n"
   ]
  }
 ],
 "metadata": {
  "kernelspec": {
   "display_name": "base",
   "language": "python",
   "name": "python3"
  },
  "language_info": {
   "codemirror_mode": {
    "name": "ipython",
    "version": 3
   },
   "file_extension": ".py",
   "mimetype": "text/x-python",
   "name": "python",
   "nbconvert_exporter": "python",
   "pygments_lexer": "ipython3",
   "version": "3.9.12"
  }
 },
 "nbformat": 4,
 "nbformat_minor": 2
}
